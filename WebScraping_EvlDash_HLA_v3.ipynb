{
 "cells": [
  {
   "cell_type": "markdown",
   "metadata": {
    "colab_type": "text",
    "id": "zo5y01vKuC2n"
   },
   "source": [
    "# `Financial Information Scraped from Yahoo Finance` (Eventually add to High Level Audience section of Dashboard..?)\n",
    "### This is just an example of few financial KPIs extraction - only applicable to listed copanies"
   ]
  },
  {
   "cell_type": "code",
   "execution_count": 5,
   "metadata": {
    "colab": {
     "base_uri": "https://localhost:8080/",
     "height": 17
    },
    "colab_type": "code",
    "id": "Eh_eKKFOuC2u",
    "outputId": "d6f8c2c5-b98f-4f39-a2e9-c3dc77fe1ae5"
   },
   "outputs": [
    {
     "data": {
      "text/html": [
       "<script type=\"text/javascript\">window.PlotlyConfig = {MathJaxConfig: 'local'};</script><script type=\"text/javascript\">if (window.MathJax) {MathJax.Hub.Config({SVG: {font: \"STIX-Web\"}});}</script><script>requirejs.config({paths: { 'plotly': ['https://cdn.plot.ly/plotly-latest.min']},});if(!window._Plotly) {require(['plotly'],function(plotly) {window._Plotly=plotly;});}</script>"
      ],
      "text/vnd.plotly.v1+html": [
       "<script type=\"text/javascript\">window.PlotlyConfig = {MathJaxConfig: 'local'};</script><script type=\"text/javascript\">if (window.MathJax) {MathJax.Hub.Config({SVG: {font: \"STIX-Web\"}});}</script><script>requirejs.config({paths: { 'plotly': ['https://cdn.plot.ly/plotly-latest.min']},});if(!window._Plotly) {require(['plotly'],function(plotly) {window._Plotly=plotly;});}</script>"
      ]
     },
     "metadata": {
      "tags": []
     },
     "output_type": "display_data"
    }
   ],
   "source": [
    "### Imports some libraries...\n",
    "import numpy as np\n",
    "from lxml import html  \n",
    "import requests\n",
    "from time import sleep\n",
    "import json\n",
    "import argparse\n",
    "from collections import OrderedDict\n",
    "from time import sleep\n",
    "# for plotting:\n",
    "#import plotly.plotly as py\n",
    "plotly.tools.set_credentials_file(username='fab.caputo', api_key='Slz57Idwvz430k3SIGL3')\n",
    "import plotly.graph_objs as go\n",
    "import plotly"
   ]
  },
  {
   "cell_type": "markdown",
   "metadata": {
    "colab_type": "text",
    "id": "sMFV0OPtRZFt"
   },
   "source": [
    "### CODE TO SCRAP.."
   ]
  },
  {
   "cell_type": "code",
   "execution_count": 0,
   "metadata": {
    "colab": {},
    "colab_type": "code",
    "id": "6z72ukVNuC3U"
   },
   "outputs": [],
   "source": [
    "### This Scrapes:\n",
    "# the current price of the stock, \n",
    "# gross margin for the most recent available year,\n",
    "# Revenue for the last 4 years\n",
    "# Revenue for the 4 quarters of the most recent available year\n",
    "\n",
    "def YahooFinanceScraping(operator):\n",
    "    \n",
    "    ticker = operator\n",
    "    #ticker = \"MTN.JO\"\n",
    "    #ticker = \"ORA.PA\"\n",
    "    url = \"https://finance.yahoo.com/quote/%s?p=%s\"%(ticker,ticker)\n",
    "    #url = \"https://uk.finance.yahoo.com/quote/MTN.JO//financials?p=MTN.JO\"\n",
    "    response = requests.get(url,verify=False)\n",
    "    print(\"Parsing %s\"%(url))\n",
    "    sleep(4)\n",
    "    parser = html.fromstring(response.text)\n",
    "    summary_table = parser.xpath('//div[contains(@data-test,\"summary-table\")]//tr')\n",
    "    summary_data = OrderedDict()\n",
    "    other_details_json_link = \"https://query2.finance.yahoo.com/v10/finance/quoteSummary/{0}?formatted=true&lang=en-US&region=US&modules=summaryProfile%2CfinancialData%2CrecommendationTrend%2CupgradeDowngradeHistory%2Cearnings%2CdefaultKeyStatistics%2CcalendarEvents&corsDomain=finance.yahoo.com\".format(ticker)\n",
    "    summary_json_response = requests.get(other_details_json_link)\n",
    "    \n",
    "    try:\n",
    "        json_loaded_summary = json.loads(summary_json_response.text)\n",
    "        # Daily Stock Price\n",
    "        global current_stock_price,most_recent_year_gross_profits\n",
    "        current_stock_price = json_loaded_summary[\"quoteSummary\"][\"result\"][0][\"financialData\"][\"currentPrice\"][\"fmt\"]\n",
    "        # Gross Profit for the most recent year available on Yahoo Finance (might not be the actual most recent)\n",
    "        most_recent_year_gross_profits = json_loaded_summary[\"quoteSummary\"][\"result\"][0][\"financialData\"][\"grossProfits\"][\"fmt\"]\n",
    "       \n",
    "        ### Yearly Revenues\n",
    "        global YearlyDates\n",
    "        YearlyDates = np.zeros(4)\n",
    "        for i in range(0,4):\n",
    "          YearlyDates[i] = json_loaded_summary[\"quoteSummary\"][\"result\"][0][\"earnings\"][\"financialsChart\"][\"yearly\"][i][\"date\"]\n",
    "                  \n",
    "        global YearlyRevenue\n",
    "        YearlyRevenue = np.zeros(4)\n",
    "        for i in range(0,4):\n",
    "          YearlyRevenue[i] = float(json_loaded_summary[\"quoteSummary\"][\"result\"][0][\"earnings\"][\"financialsChart\"][\"yearly\"][i][\"revenue\"][\"raw\"])\n",
    "        \n",
    "        ### Quarterly Revenues\n",
    "        global QuarterDates\n",
    "        QuarterDates = list(np.zeros(4))\n",
    "        for i in range(0,4):\n",
    "          QuarterDates[i] = json_loaded_summary[\"quoteSummary\"][\"result\"][0][\"earnings\"][\"financialsChart\"][\"quarterly\"][i][\"date\"]  \n",
    "          \n",
    "        global QuarterlyRevenue\n",
    "        QuarterlyRevenue = np.zeros(4)\n",
    "        for i in range(0,4):\n",
    "            QuarterlyRevenue[i] = float(json_loaded_summary[\"quoteSummary\"][\"result\"][0][\"earnings\"][\"financialsChart\"][\"quarterly\"][i][\"revenue\"][\"raw\"])\n",
    "        \n",
    "        ### Plot\n",
    "        trace0 = go.Scatter(\n",
    "        x=YearlyDates,\n",
    "        y=YearlyRevenue,\n",
    "        connectgaps=False,\n",
    "        text=['27% market share', '24% market share', '19% market share'],\n",
    "        marker=dict(\n",
    "            color='rgb(158,202,225)',\n",
    "            line=dict(\n",
    "                color='rgb(8,48,107)',\n",
    "                width=0.4,\n",
    "            )\n",
    "        ),\n",
    "        opacity=1)\n",
    "\n",
    "        trace1 = go.Scatter(\n",
    "        x=QuarterDates,\n",
    "        y=QuarterlyRevenue,\n",
    "        connectgaps=False,\n",
    "        text=['27% market share', '24% market share', '19% market share'],\n",
    "        marker=dict(\n",
    "            color='rgb(158,202,225)',\n",
    "            line=dict(\n",
    "                color='rgb(8,48,107)',\n",
    "                width=0.4,\n",
    "            )\n",
    "        ),\n",
    "        opacity=1)\n",
    "        \n",
    "        global Yearlayout, Quarterlayout\n",
    "        Yearlayout = dict(title = 'YEARLY REVENUE',\n",
    "                  xaxis = dict(title = 'Year',tickformat='d'),\n",
    "                  yaxis = dict(title = 'Revenue'),\n",
    "                  )\n",
    "\n",
    "        Quarterlayout = dict(title = 'QUARTERLY REVENUE',\n",
    "                  xaxis = dict(title = 'Quarter',tickformat='d'),\n",
    "                  yaxis = dict(title = 'Revenue'),\n",
    "                  )\n",
    "\n",
    "        fig = dict(data=data, layout=layout)\n",
    "        py.iplot(fig, filename='styled-line')\n",
    "        global Yearlydata,Quarterlydata\n",
    "        Yearlydata = [trace0]\n",
    "        Quarterlydata = [trace1]\n",
    "        \n",
    "        #Yearfig = go.Figure(data=Yearlydata, layout=Yearlayout)\n",
    "        #Quarterfig = go.Figure(data=Quarterlydata, layout=Quarterlayout)\n",
    "        \n",
    "        #RevenueYearlyPlot = py.iplot(Yearfig, filename='YearlyRevenuePlot')       \n",
    "        #RevenueQuarterlyPlot = py.iplot(Quarterfig, filename='QuarterlyRevenuePlot') \n",
    "        #return RevenueYearlyPlot\n",
    "        #return RevenueQuarterlyPlot\n",
    "      \n",
    "        return json_loaded_summary\n",
    "    \n",
    "    except:\n",
    "        \n",
    "        return \"Failed to parse json response\"\n",
    "        return {\"error\":\"Failed to parse json response\"}"
   ]
  },
  {
   "cell_type": "markdown",
   "metadata": {
    "colab_type": "text",
    "id": "NGLIqNmeRCxw"
   },
   "source": [
    "## ORANGE S.A."
   ]
  },
  {
   "cell_type": "code",
   "execution_count": 151,
   "metadata": {
    "colab": {
     "base_uri": "https://localhost:8080/",
     "height": 4683
    },
    "colab_type": "code",
    "id": "rKCMFGNeuC3w",
    "outputId": "eafe7f0f-04f7-4cc2-f45c-83ae4b5896ee"
   },
   "outputs": [
    {
     "name": "stderr",
     "output_type": "stream",
     "text": [
      "/usr/local/lib/python3.6/dist-packages/urllib3/connectionpool.py:847: InsecureRequestWarning:\n",
      "\n",
      "Unverified HTTPS request is being made. Adding certificate verification is strongly advised. See: https://urllib3.readthedocs.io/en/latest/advanced-usage.html#ssl-warnings\n",
      "\n"
     ]
    },
    {
     "name": "stdout",
     "output_type": "stream",
     "text": [
      "Parsing https://finance.yahoo.com/quote/ORA.PA?p=ORA.PA\n"
     ]
    },
    {
     "data": {
      "text/plain": [
       "{'quoteSummary': {'error': None,\n",
       "  'result': [{'calendarEvents': {'dividendDate': {},\n",
       "     'earnings': {'earningsAverage': {},\n",
       "      'earningsDate': [{'fmt': '2019-07-25', 'raw': 1564012800}],\n",
       "      'earningsHigh': {},\n",
       "      'earningsLow': {},\n",
       "      'revenueAverage': {'fmt': '11.73B',\n",
       "       'longFmt': '11,731,000,000',\n",
       "       'raw': 11731000000},\n",
       "      'revenueHigh': {'fmt': '11.71B',\n",
       "       'longFmt': '11,708,000,000',\n",
       "       'raw': 11708000000},\n",
       "      'revenueLow': {'fmt': '11.11B',\n",
       "       'longFmt': '11,109,000,000',\n",
       "       'raw': 11109000000}},\n",
       "     'exDividendDate': {'fmt': '2019-06-04', 'raw': 1559606400},\n",
       "     'maxAge': 1},\n",
       "    'defaultKeyStatistics': {'52WeekChange': {'fmt': '-5.25%',\n",
       "      'raw': -0.05248809},\n",
       "     'SandP52WeekChange': {'fmt': '2.01%', 'raw': 0.020134449},\n",
       "     'annualHoldingsTurnover': {},\n",
       "     'annualReportExpenseRatio': {},\n",
       "     'beta': {'fmt': '0.23', 'raw': 0.227716},\n",
       "     'beta3Year': {},\n",
       "     'bookValue': {'fmt': '11.56', 'raw': 11.561},\n",
       "     'category': None,\n",
       "     'dateShortInterest': {},\n",
       "     'earningsQuarterlyGrowth': {},\n",
       "     'enterpriseToEbitda': {'fmt': '5.49', 'raw': 5.49},\n",
       "     'enterpriseToRevenue': {'fmt': '1.59', 'raw': 1.59},\n",
       "     'enterpriseValue': {'fmt': '65.8B',\n",
       "      'longFmt': '65,799,512,064',\n",
       "      'raw': 65799512064},\n",
       "     'fiveYearAverageReturn': {},\n",
       "     'floatShares': {'fmt': '1.77B',\n",
       "      'longFmt': '1,767,217,559',\n",
       "      'raw': 1767217559},\n",
       "     'forwardEps': {'fmt': '1.17', 'raw': 1.17},\n",
       "     'forwardPE': {},\n",
       "     'fundFamily': None,\n",
       "     'fundInceptionDate': {},\n",
       "     'heldPercentInsiders': {},\n",
       "     'heldPercentInstitutions': {},\n",
       "     'lastCapGain': {},\n",
       "     'lastDividendValue': {},\n",
       "     'lastFiscalYearEnd': {'fmt': '2018-12-31', 'raw': 1546214400},\n",
       "     'lastSplitDate': {},\n",
       "     'lastSplitFactor': None,\n",
       "     'legalType': None,\n",
       "     'maxAge': 1,\n",
       "     'morningStarOverallRating': {},\n",
       "     'morningStarRiskRating': {},\n",
       "     'mostRecentQuarter': {'fmt': '2018-12-31', 'raw': 1546214400},\n",
       "     'netIncomeToCommon': {'fmt': '1.66B',\n",
       "      'longFmt': '1,660,999,936',\n",
       "      'raw': 1660999936},\n",
       "     'nextFiscalYearEnd': {'fmt': '2020-12-31', 'raw': 1609372800},\n",
       "     'pegRatio': {},\n",
       "     'priceHint': {'fmt': '2', 'longFmt': '2', 'raw': 2},\n",
       "     'priceToBook': {'fmt': '1.18', 'raw': 1.1785313},\n",
       "     'priceToSalesTrailing12Months': {},\n",
       "     'profitMargins': {'fmt': '4.72%', 'raw': 0.047220003},\n",
       "     'revenueQuarterlyGrowth': {},\n",
       "     'sharesOutstanding': {'fmt': '2.65B',\n",
       "      'longFmt': '2,652,659,968',\n",
       "      'raw': 2652659968},\n",
       "     'sharesPercentSharesOut': {},\n",
       "     'sharesShort': {},\n",
       "     'sharesShortPreviousMonthDate': {},\n",
       "     'sharesShortPriorMonth': {},\n",
       "     'shortPercentOfFloat': {},\n",
       "     'shortRatio': {},\n",
       "     'threeYearAverageReturn': {},\n",
       "     'totalAssets': {},\n",
       "     'trailingEps': {'fmt': '0.62', 'raw': 0.62},\n",
       "     'yield': {},\n",
       "     'ytdReturn': {}},\n",
       "    'earnings': {'earningsChart': {'earningsDate': [{'fmt': '2019-07-25',\n",
       "        'raw': 1564012800}],\n",
       "      'quarterly': []},\n",
       "     'financialCurrency': 'EUR',\n",
       "     'financialsChart': {'quarterly': [{'date': '1Q2018',\n",
       "        'earnings': {'fmt': '394.5M',\n",
       "         'longFmt': '394,500,000',\n",
       "         'raw': 394500000},\n",
       "        'revenue': {'fmt': '10.13B',\n",
       "         'longFmt': '10,131,000,000',\n",
       "         'raw': 10131000000}},\n",
       "       {'date': '2Q2018',\n",
       "        'earnings': {'fmt': '394.5M',\n",
       "         'longFmt': '394,500,000',\n",
       "         'raw': 394500000},\n",
       "        'revenue': {'fmt': '10.13B',\n",
       "         'longFmt': '10,131,000,000',\n",
       "         'raw': 10131000000}},\n",
       "       {'date': '3Q2018',\n",
       "        'earnings': {'fmt': '582.5M',\n",
       "         'longFmt': '582,500,000',\n",
       "         'raw': 582500000},\n",
       "        'revenue': {'fmt': '10.56B',\n",
       "         'longFmt': '10,559,500,000',\n",
       "         'raw': 10559500000}},\n",
       "       {'date': '4Q2018',\n",
       "        'earnings': {'fmt': '582.5M',\n",
       "         'longFmt': '582,500,000',\n",
       "         'raw': 582500000},\n",
       "        'revenue': {'fmt': '10.56B',\n",
       "         'longFmt': '10,559,500,000',\n",
       "         'raw': 10559500000}}],\n",
       "      'yearly': [{'date': 2015,\n",
       "        'earnings': {'fmt': '2.65B',\n",
       "         'longFmt': '2,652,000,000',\n",
       "         'raw': 2652000000},\n",
       "        'revenue': {'fmt': '40.24B',\n",
       "         'longFmt': '40,236,000,000',\n",
       "         'raw': 40236000000}},\n",
       "       {'date': 2016,\n",
       "        'earnings': {'fmt': '2.81B',\n",
       "         'longFmt': '2,813,000,000',\n",
       "         'raw': 2813000000},\n",
       "        'revenue': {'fmt': '40.71B',\n",
       "         'longFmt': '40,708,000,000',\n",
       "         'raw': 40708000000}},\n",
       "       {'date': 2017,\n",
       "        'earnings': {'fmt': '1.84B',\n",
       "         'longFmt': '1,843,000,000',\n",
       "         'raw': 1843000000},\n",
       "        'revenue': {'fmt': '40.86B',\n",
       "         'longFmt': '40,859,000,000',\n",
       "         'raw': 40859000000}},\n",
       "       {'date': 2018,\n",
       "        'earnings': {'fmt': '1.95B',\n",
       "         'longFmt': '1,954,000,000',\n",
       "         'raw': 1954000000},\n",
       "        'revenue': {'fmt': '41.38B',\n",
       "         'longFmt': '41,381,000,000',\n",
       "         'raw': 41381000000}}]},\n",
       "     'maxAge': 86400},\n",
       "    'financialData': {'currentPrice': {'fmt': '13.62', 'raw': 13.625},\n",
       "     'currentRatio': {'fmt': '0.72', 'raw': 0.723},\n",
       "     'debtToEquity': {'fmt': '105.05', 'raw': 105.047},\n",
       "     'earningsGrowth': {},\n",
       "     'ebitda': {'fmt': '11.99B',\n",
       "      'longFmt': '11,985,999,872',\n",
       "      'raw': 11985999872},\n",
       "     'ebitdaMargins': {'fmt': '28.96%', 'raw': 0.28965},\n",
       "     'financialCurrency': 'EUR',\n",
       "     'freeCashflow': {'fmt': '-1.79B',\n",
       "      'longFmt': '-1,791,000,064',\n",
       "      'raw': -1791000064},\n",
       "     'grossMargins': {'fmt': '38.12%', 'raw': 0.38120997},\n",
       "     'grossProfits': {'fmt': '15.78B',\n",
       "      'longFmt': '15,775,000,000',\n",
       "      'raw': 15775000000},\n",
       "     'maxAge': 86400,\n",
       "     'numberOfAnalystOpinions': {'fmt': '24', 'longFmt': '24', 'raw': 24},\n",
       "     'operatingCashflow': {'fmt': '9.51B',\n",
       "      'longFmt': '9,505,999,872',\n",
       "      'raw': 9505999872},\n",
       "     'operatingMargins': {'fmt': '11.94%', 'raw': 0.11935},\n",
       "     'profitMargins': {'fmt': '4.72%', 'raw': 0.047220003},\n",
       "     'quickRatio': {'fmt': '0.60', 'raw': 0.601},\n",
       "     'recommendationKey': 'none',\n",
       "     'recommendationMean': {},\n",
       "     'returnOnAssets': {'fmt': '3.22%', 'raw': 0.03216},\n",
       "     'returnOnEquity': {'fmt': '6.46%', 'raw': 0.06465},\n",
       "     'revenueGrowth': {},\n",
       "     'revenuePerShare': {'fmt': '15.58', 'raw': 15.576},\n",
       "     'targetHighPrice': {'fmt': '20.50', 'raw': 20.5},\n",
       "     'targetLowPrice': {'fmt': '14.00', 'raw': 14.0},\n",
       "     'targetMeanPrice': {'fmt': '17.10', 'raw': 17.1},\n",
       "     'targetMedianPrice': {'fmt': '17.25', 'raw': 17.25},\n",
       "     'totalCash': {'fmt': '8.58B',\n",
       "      'longFmt': '8,582,000,128',\n",
       "      'raw': 8582000128},\n",
       "     'totalCashPerShare': {'fmt': '3.23', 'raw': 3.235},\n",
       "     'totalDebt': {'fmt': '34.93B',\n",
       "      'longFmt': '34,927,001,600',\n",
       "      'raw': 34927001600},\n",
       "     'totalRevenue': {'fmt': '41.38B',\n",
       "      'longFmt': '41,380,999,168',\n",
       "      'raw': 41380999168}},\n",
       "    'recommendationTrend': {'maxAge': 86400,\n",
       "     'trend': [{'buy': 0,\n",
       "       'hold': 0,\n",
       "       'period': '0m',\n",
       "       'sell': 0,\n",
       "       'strongBuy': 0,\n",
       "       'strongSell': 0},\n",
       "      {'buy': 14,\n",
       "       'hold': 7,\n",
       "       'period': '-1m',\n",
       "       'sell': 2,\n",
       "       'strongBuy': 5,\n",
       "       'strongSell': 1},\n",
       "      {'buy': 14,\n",
       "       'hold': 7,\n",
       "       'period': '-2m',\n",
       "       'sell': 2,\n",
       "       'strongBuy': 5,\n",
       "       'strongSell': 0},\n",
       "      {'buy': 15,\n",
       "       'hold': 8,\n",
       "       'period': '-3m',\n",
       "       'sell': 1,\n",
       "       'strongBuy': 5,\n",
       "       'strongSell': 0}]},\n",
       "    'summaryProfile': {'address1': '78, rue Olivier de Serres',\n",
       "     'city': 'Paris',\n",
       "     'companyOfficers': [],\n",
       "     'country': 'France',\n",
       "     'fullTimeEmployees': 135943,\n",
       "     'industry': 'Telecom Services',\n",
       "     'longBusinessSummary': 'Orange S.A. provides a range of fixed telephony and mobile telecommunications, data transmission, and other value-added services to consumers, businesses, and other telecommunications operators in Europe, Africa, and the Middle East. The company offers mobile services, such as voice, SMS, and data; fixed broadband and narrowband services, as well as fixed network business solutions, including voice and data; and convergence packages. It also sells mobile phones, broadband equipment, and connected objects and accessories. In addition, the company provides IT and integration services comprising unified communication and collaboration services, such as LAN and telephony, advising, integration, and project management; hosting and infrastructure services, including cloud computing; customer relations management and other applications services; security services; and video conferencing, as well as sells related equipment. Further, it offers national and international roaming services; and mobile virtual network operators, network sharing, and mobile financial services, as well as sells equipment to external distributors and brokers. The company markets its products and services under the Orange brand. Orange S.A. was formerly known as France Telecom and changed its name to Orange S.A. in July 2013. Orange S.A. was founded in 1990 and is headquartered in Paris, France.',\n",
       "     'maxAge': 86400,\n",
       "     'phone': '33 1 44 44 22 22',\n",
       "     'sector': 'Communication Services',\n",
       "     'website': 'http://www.orange.com',\n",
       "     'zip': '75015'},\n",
       "    'upgradeDowngradeHistory': {'history': [{'action': 'main',\n",
       "       'epochGradeDate': 1536278400,\n",
       "       'firm': 'Argus',\n",
       "       'fromGrade': 'Buy',\n",
       "       'toGrade': 'Buy'},\n",
       "      {'action': 'up',\n",
       "       'epochGradeDate': 1512691200,\n",
       "       'firm': 'Berenberg',\n",
       "       'fromGrade': 'Sell',\n",
       "       'toGrade': 'Hold'},\n",
       "      {'action': 'down',\n",
       "       'epochGradeDate': 1475452800,\n",
       "       'firm': 'HSBC',\n",
       "       'fromGrade': '',\n",
       "       'toGrade': 'Hold'},\n",
       "      {'action': 'up',\n",
       "       'epochGradeDate': 1474934400,\n",
       "       'firm': 'Credit Suisse',\n",
       "       'fromGrade': '',\n",
       "       'toGrade': 'Outperform'},\n",
       "      {'action': 'down',\n",
       "       'epochGradeDate': 1472601600,\n",
       "       'firm': 'Bank of America',\n",
       "       'fromGrade': '',\n",
       "       'toGrade': 'Neutral'},\n",
       "      {'action': 'up',\n",
       "       'epochGradeDate': 1468886400,\n",
       "       'firm': 'Raymond James',\n",
       "       'fromGrade': '',\n",
       "       'toGrade': 'Outperform'},\n",
       "      {'action': 'down',\n",
       "       'epochGradeDate': 1459728000,\n",
       "       'firm': 'Deutsche Bank',\n",
       "       'fromGrade': '',\n",
       "       'toGrade': 'Hold'},\n",
       "      {'action': 'down',\n",
       "       'epochGradeDate': 1437436800,\n",
       "       'firm': 'Deutsche Bank',\n",
       "       'fromGrade': '',\n",
       "       'toGrade': 'Hold'}],\n",
       "     'maxAge': 86400}}]}}"
      ]
     },
     "execution_count": 151,
     "metadata": {
      "tags": []
     },
     "output_type": "execute_result"
    }
   ],
   "source": [
    "# ORANGE S.A.\n",
    "YahooFinanceScraping(\"ORA.PA\")"
   ]
  },
  {
   "cell_type": "code",
   "execution_count": 152,
   "metadata": {
    "colab": {
     "base_uri": "https://localhost:8080/",
     "height": 546
    },
    "colab_type": "code",
    "id": "p82oDwPRKLPN",
    "outputId": "42bcc4e4-a920-49f3-f26a-c07d3f19005e"
   },
   "outputs": [
    {
     "data": {
      "text/html": [
       "<iframe id=\"igraph\" scrolling=\"no\" style=\"border:none;\" seamless=\"seamless\" src=\"https://plot.ly/~fab.caputo/6.embed\" height=\"525px\" width=\"100%\"></iframe>"
      ],
      "text/plain": [
       "<plotly.tools.PlotlyDisplay object>"
      ]
     },
     "execution_count": 152,
     "metadata": {
      "tags": []
     },
     "output_type": "execute_result"
    }
   ],
   "source": [
    "Yearfig = go.Figure(data=Yearlydata, layout=Yearlayout)\n",
    "py.iplot(Yearfig, filename='YearlyRevenuePlot')"
   ]
  },
  {
   "cell_type": "code",
   "execution_count": 145,
   "metadata": {
    "colab": {
     "base_uri": "https://localhost:8080/",
     "height": 546
    },
    "colab_type": "code",
    "id": "ZLr76bRSILf0",
    "outputId": "00ec1ce6-2aad-4225-bc66-31f19ba2be3b"
   },
   "outputs": [
    {
     "data": {
      "text/html": [
       "<iframe id=\"igraph\" scrolling=\"no\" style=\"border:none;\" seamless=\"seamless\" src=\"https://plot.ly/~fab.caputo/8.embed\" height=\"525px\" width=\"100%\"></iframe>"
      ],
      "text/plain": [
       "<plotly.tools.PlotlyDisplay object>"
      ]
     },
     "execution_count": 145,
     "metadata": {
      "tags": []
     },
     "output_type": "execute_result"
    }
   ],
   "source": [
    "#ORANGE QUARTERLY REVENUE\n",
    "Quarterfig = go.Figure(data=Quarterlydata, layout=Quarterlayout)\n",
    "py.iplot(Quarterfig, filename='QuarterlyRevenuePlot')"
   ]
  },
  {
   "cell_type": "code",
   "execution_count": null,
   "metadata": {
    "colab": {
     "base_uri": "https://localhost:8080/",
     "height": 167
    },
    "colab_type": "code",
    "id": "hKnxzYJlXOcH",
    "outputId": "a609334a-62f3-4278-cbec-763b705f4a49"
   },
   "outputs": [],
   "source": [
    "print('Current Stick Price : '+str(current_stock_price))"
   ]
  },
  {
   "cell_type": "code",
   "execution_count": 0,
   "metadata": {
    "colab": {},
    "colab_type": "code",
    "id": "P4gj1FItXbsR"
   },
   "outputs": [],
   "source": [
    "print('most recent year gross profits : '+str(most_recent_year_gross_profits))"
   ]
  },
  {
   "cell_type": "markdown",
   "metadata": {
    "colab_type": "text",
    "id": "ToLEKXM-QzAa"
   },
   "source": [
    "## MTN GROUP"
   ]
  },
  {
   "cell_type": "code",
   "execution_count": 156,
   "metadata": {
    "colab": {
     "base_uri": "https://localhost:8080/",
     "height": 634
    },
    "colab_type": "code",
    "id": "F_vLVBGDuC4K",
    "outputId": "74f41336-0efc-4b4c-99c6-e263ef72ecad"
   },
   "outputs": [
    {
     "name": "stderr",
     "output_type": "stream",
     "text": [
      "/usr/local/lib/python3.6/dist-packages/urllib3/connectionpool.py:847: InsecureRequestWarning:\n",
      "\n",
      "Unverified HTTPS request is being made. Adding certificate verification is strongly advised. See: https://urllib3.readthedocs.io/en/latest/advanced-usage.html#ssl-warnings\n",
      "\n"
     ]
    },
    {
     "name": "stdout",
     "output_type": "stream",
     "text": [
      "Parsing https://finance.yahoo.com/quote/MTN.JO?p=MTN.JO\n"
     ]
    },
    {
     "data": {
      "text/html": [
       "<iframe id=\"igraph\" scrolling=\"no\" style=\"border:none;\" seamless=\"seamless\" src=\"https://plot.ly/~fab.caputo/6.embed\" height=\"525px\" width=\"100%\"></iframe>"
      ],
      "text/plain": [
       "<plotly.tools.PlotlyDisplay object>"
      ]
     },
     "execution_count": 156,
     "metadata": {
      "tags": []
     },
     "output_type": "execute_result"
    }
   ],
   "source": [
    "# MTN\n",
    "YahooFinanceScraping(\"MTN.JO\")\n",
    "Yearfig = go.Figure(data=Yearlydata, layout=Yearlayout)\n",
    "py.iplot(Yearfig, filename='YearlyRevenuePlot')"
   ]
  },
  {
   "cell_type": "code",
   "execution_count": 155,
   "metadata": {
    "colab": {
     "base_uri": "https://localhost:8080/",
     "height": 546
    },
    "colab_type": "code",
    "id": "q-ZuUClzOa4o",
    "outputId": "8e1a2224-2a0a-49be-c566-d8a1f8c7dab1"
   },
   "outputs": [
    {
     "data": {
      "text/html": [
       "<iframe id=\"igraph\" scrolling=\"no\" style=\"border:none;\" seamless=\"seamless\" src=\"https://plot.ly/~fab.caputo/8.embed\" height=\"525px\" width=\"100%\"></iframe>"
      ],
      "text/plain": [
       "<plotly.tools.PlotlyDisplay object>"
      ]
     },
     "execution_count": 155,
     "metadata": {
      "tags": []
     },
     "output_type": "execute_result"
    }
   ],
   "source": [
    "# MTN QUARTERLY REVENUE\n",
    "Quarterfig = go.Figure(data=Quarterlydata, layout=Quarterlayout)\n",
    "py.iplot(Quarterfig, filename='QuarterlyRevenuePlot')"
   ]
  },
  {
   "cell_type": "markdown",
   "metadata": {
    "colab_type": "text",
    "id": "OhSVwdDCRxrg"
   },
   "source": [
    "## BT"
   ]
  },
  {
   "cell_type": "code",
   "execution_count": 157,
   "metadata": {
    "colab": {
     "base_uri": "https://localhost:8080/",
     "height": 634
    },
    "colab_type": "code",
    "id": "b5VYyaWtuC4h",
    "outputId": "d0e30cb5-e17b-4bb4-de0b-9143c1efe021"
   },
   "outputs": [
    {
     "name": "stderr",
     "output_type": "stream",
     "text": [
      "/usr/local/lib/python3.6/dist-packages/urllib3/connectionpool.py:847: InsecureRequestWarning:\n",
      "\n",
      "Unverified HTTPS request is being made. Adding certificate verification is strongly advised. See: https://urllib3.readthedocs.io/en/latest/advanced-usage.html#ssl-warnings\n",
      "\n"
     ]
    },
    {
     "name": "stdout",
     "output_type": "stream",
     "text": [
      "Parsing https://finance.yahoo.com/quote/BT?p=BT\n"
     ]
    },
    {
     "data": {
      "text/html": [
       "<iframe id=\"igraph\" scrolling=\"no\" style=\"border:none;\" seamless=\"seamless\" src=\"https://plot.ly/~fab.caputo/6.embed\" height=\"525px\" width=\"100%\"></iframe>"
      ],
      "text/plain": [
       "<plotly.tools.PlotlyDisplay object>"
      ]
     },
     "execution_count": 157,
     "metadata": {
      "tags": []
     },
     "output_type": "execute_result"
    }
   ],
   "source": [
    "# BT\n",
    "YahooFinanceScraping(\"BT\")\n",
    "Yearfig = go.Figure(data=Yearlydata, layout=Yearlayout)\n",
    "py.iplot(Yearfig, filename='YearlyRevenuePlot')"
   ]
  },
  {
   "cell_type": "code",
   "execution_count": 158,
   "metadata": {
    "colab": {
     "base_uri": "https://localhost:8080/",
     "height": 546
    },
    "colab_type": "code",
    "id": "a1MKNN8UOFXk",
    "outputId": "5578fa85-5ad1-420c-9918-64c68c425f94"
   },
   "outputs": [
    {
     "data": {
      "text/html": [
       "<iframe id=\"igraph\" scrolling=\"no\" style=\"border:none;\" seamless=\"seamless\" src=\"https://plot.ly/~fab.caputo/8.embed\" height=\"525px\" width=\"100%\"></iframe>"
      ],
      "text/plain": [
       "<plotly.tools.PlotlyDisplay object>"
      ]
     },
     "execution_count": 158,
     "metadata": {
      "tags": []
     },
     "output_type": "execute_result"
    }
   ],
   "source": [
    "# BT QUARTERLY REVENUE\n",
    "Quarterfig = go.Figure(data=Quarterlydata, layout=Quarterlayout)\n",
    "py.iplot(Quarterfig, filename='QuarterlyRevenuePlot')"
   ]
  }
 ],
 "metadata": {
  "colab": {
   "name": "EvolutionDashboard_HLA_v1.ipynb",
   "provenance": [],
   "version": "0.3.2"
  },
  "kernelspec": {
   "display_name": "Python 3",
   "language": "python",
   "name": "python3"
  },
  "language_info": {
   "codemirror_mode": {
    "name": "ipython",
    "version": 3
   },
   "file_extension": ".py",
   "mimetype": "text/x-python",
   "name": "python",
   "nbconvert_exporter": "python",
   "pygments_lexer": "ipython3",
   "version": "3.6.6"
  }
 },
 "nbformat": 4,
 "nbformat_minor": 1
}
